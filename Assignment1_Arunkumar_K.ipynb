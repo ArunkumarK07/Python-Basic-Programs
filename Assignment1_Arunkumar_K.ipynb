{
  "nbformat": 4,
  "nbformat_minor": 0,
  "metadata": {
    "colab": {
      "provenance": []
    },
    "kernelspec": {
      "name": "python3",
      "display_name": "Python 3"
    },
    "language_info": {
      "name": "python"
    }
  },
  "cells": [
    {
      "cell_type": "markdown",
      "source": [
        "##**Assignment -1 **##"
      ],
      "metadata": {
        "id": "m8zQt-47QX7L"
      }
    },
    {
      "cell_type": "markdown",
      "source": [
        "** Question No: 01 **"
      ],
      "metadata": {
        "id": "Ez0MOa6jQfZf"
      }
    },
    {
      "cell_type": "code",
      "source": [
        " L= [11, 12, 13, 14]\n",
        " print(L)"
      ],
      "metadata": {
        "colab": {
          "base_uri": "https://localhost:8080/"
        },
        "id": "TqlqBWKtQn9g",
        "outputId": "09a8219b-b529-4a95-f801-1187a4ae0565"
      },
      "execution_count": 34,
      "outputs": [
        {
          "output_type": "stream",
          "name": "stdout",
          "text": [
            "[11, 12, 13, 14]\n"
          ]
        }
      ]
    },
    {
      "cell_type": "code",
      "source": [
        "L.append(50)\n",
        "print(L)"
      ],
      "metadata": {
        "colab": {
          "base_uri": "https://localhost:8080/"
        },
        "id": "8IBSSBkAQzlz",
        "outputId": "900b5242-b7b4-4dda-d764-6a706ca4f685"
      },
      "execution_count": 35,
      "outputs": [
        {
          "output_type": "stream",
          "name": "stdout",
          "text": [
            "[11, 12, 13, 14, 50]\n"
          ]
        }
      ]
    },
    {
      "cell_type": "code",
      "source": [
        "L.append(60)\n",
        "print(L)"
      ],
      "metadata": {
        "colab": {
          "base_uri": "https://localhost:8080/"
        },
        "id": "Ls77VoMpQ5Pp",
        "outputId": "10b7a7c5-15dc-45f2-8552-317b668dd6e9"
      },
      "execution_count": 36,
      "outputs": [
        {
          "output_type": "stream",
          "name": "stdout",
          "text": [
            "[11, 12, 13, 14, 50, 60]\n"
          ]
        }
      ]
    },
    {
      "cell_type": "code",
      "source": [
        "L.remove(11)\n",
        "print(L)"
      ],
      "metadata": {
        "colab": {
          "base_uri": "https://localhost:8080/"
        },
        "id": "EFm3XogBQ741",
        "outputId": "9d0a5db8-965e-43b6-e9fc-42f0254b3dac"
      },
      "execution_count": 37,
      "outputs": [
        {
          "output_type": "stream",
          "name": "stdout",
          "text": [
            "[12, 13, 14, 50, 60]\n"
          ]
        }
      ]
    },
    {
      "cell_type": "code",
      "source": [
        "L.remove(13)\n",
        "print(L)"
      ],
      "metadata": {
        "colab": {
          "base_uri": "https://localhost:8080/"
        },
        "id": "dI2ATnnxRBGL",
        "outputId": "c3c6dda0-2c40-4645-da10-34fecb2a95d5"
      },
      "execution_count": 38,
      "outputs": [
        {
          "output_type": "stream",
          "name": "stdout",
          "text": [
            "[12, 14, 50, 60]\n"
          ]
        }
      ]
    },
    {
      "cell_type": "code",
      "source": [
        "L.sort()\n",
        "print(L)"
      ],
      "metadata": {
        "colab": {
          "base_uri": "https://localhost:8080/"
        },
        "id": "wMsoOyzNREQG",
        "outputId": "a8a2dd49-ee56-4cc3-fe20-b95669ffe54c"
      },
      "execution_count": 39,
      "outputs": [
        {
          "output_type": "stream",
          "name": "stdout",
          "text": [
            "[12, 14, 50, 60]\n"
          ]
        }
      ]
    },
    {
      "cell_type": "code",
      "source": [
        "L.sort(reverse=True)\n",
        "print(L)"
      ],
      "metadata": {
        "colab": {
          "base_uri": "https://localhost:8080/"
        },
        "id": "pODoT1ndRT8m",
        "outputId": "aa6450b9-9948-46b9-bf60-a4bb69848b48"
      },
      "execution_count": 40,
      "outputs": [
        {
          "output_type": "stream",
          "name": "stdout",
          "text": [
            "[60, 50, 14, 12]\n"
          ]
        }
      ]
    },
    {
      "cell_type": "code",
      "source": [
        "if 13 in L:\n",
        "  print(\"Number 13 in the List\")\n",
        "else:\n",
        "  print(\"Number 13 not in the List\")"
      ],
      "metadata": {
        "colab": {
          "base_uri": "https://localhost:8080/"
        },
        "id": "2XHkwbUXRclU",
        "outputId": "8b27e715-b8a6-45ad-8dae-854265c19b5f"
      },
      "execution_count": 41,
      "outputs": [
        {
          "output_type": "stream",
          "name": "stdout",
          "text": [
            "Number 13 not in the List\n"
          ]
        }
      ]
    },
    {
      "cell_type": "code",
      "source": [
        "print(\"Number of Elements in the List is \",len(L))"
      ],
      "metadata": {
        "colab": {
          "base_uri": "https://localhost:8080/"
        },
        "id": "9_VzLJ8yRqKr",
        "outputId": "14891f40-52ff-4418-9e09-6bbab81701f4"
      },
      "execution_count": 42,
      "outputs": [
        {
          "output_type": "stream",
          "name": "stdout",
          "text": [
            "Number of Elements in the List is  4\n"
          ]
        }
      ]
    },
    {
      "cell_type": "code",
      "source": [
        "print(\"Sum of Elements in the List is \",sum(L))"
      ],
      "metadata": {
        "colab": {
          "base_uri": "https://localhost:8080/"
        },
        "id": "u9FXa8ssRzsc",
        "outputId": "691b6984-9643-4bd2-c36d-6f31002eb0ec"
      },
      "execution_count": 43,
      "outputs": [
        {
          "output_type": "stream",
          "name": "stdout",
          "text": [
            "Sum of Elements in the List is  136\n"
          ]
        }
      ]
    },
    {
      "cell_type": "code",
      "source": [
        "odd_sum=0\n",
        "for i in L:\n",
        "  if i%2!=0:\n",
        "    odd_sum=odd_sum+i\n",
        "print(\"Sum of Odd numbers in the List is \",odd_sum)"
      ],
      "metadata": {
        "colab": {
          "base_uri": "https://localhost:8080/"
        },
        "id": "aE-aujt5R-a5",
        "outputId": "88996c22-a627-44e9-97f8-3d9a1b321c67"
      },
      "execution_count": 44,
      "outputs": [
        {
          "output_type": "stream",
          "name": "stdout",
          "text": [
            "Sum of Odd numbers in the List is  0\n"
          ]
        }
      ]
    },
    {
      "cell_type": "code",
      "source": [
        "even_sum=0\n",
        "for i in L:\n",
        "  if i%2==0:\n",
        "    even_sum=even_sum+i\n",
        "print(\"Sum of Even numbers in the List is \",even_sum)"
      ],
      "metadata": {
        "colab": {
          "base_uri": "https://localhost:8080/"
        },
        "id": "-50y78RTSZVm",
        "outputId": "2bee9a1c-3f95-4db5-dcee-feba0717520c"
      },
      "execution_count": 45,
      "outputs": [
        {
          "output_type": "stream",
          "name": "stdout",
          "text": [
            "Sum of Even numbers in the List is  136\n"
          ]
        }
      ]
    },
    {
      "cell_type": "code",
      "source": [
        "prime_sum=0\n",
        "for i in L:\n",
        "  flag=0\n",
        "  for j in range(2,i):\n",
        "    if i%j==0:\n",
        "      flag=1\n",
        "      break\n",
        "\n",
        "  if flag==0:\n",
        "    prime_sum=prime_sum+i\n",
        "print(\"Sum of Prime numbers in the List is \",prime_sum)\n"
      ],
      "metadata": {
        "colab": {
          "base_uri": "https://localhost:8080/"
        },
        "id": "xzeHT3nrSgAK",
        "outputId": "b640530a-8bf8-43a1-8c5d-189d195be5dc"
      },
      "execution_count": 46,
      "outputs": [
        {
          "output_type": "stream",
          "name": "stdout",
          "text": [
            "Sum of Prime numbers in the List is  0\n"
          ]
        }
      ]
    },
    {
      "cell_type": "code",
      "source": [
        "L.clear()\n",
        "print(L)"
      ],
      "metadata": {
        "colab": {
          "base_uri": "https://localhost:8080/"
        },
        "id": "yITCsWC1S19h",
        "outputId": "c65315ab-048e-4cc7-efa4-77e08fb07398"
      },
      "execution_count": 47,
      "outputs": [
        {
          "output_type": "stream",
          "name": "stdout",
          "text": [
            "[]\n"
          ]
        }
      ]
    },
    {
      "cell_type": "code",
      "source": [
        "del(L)\n",
        "print(L)"
      ],
      "metadata": {
        "colab": {
          "base_uri": "https://localhost:8080/",
          "height": 164
        },
        "id": "6BJAjyoLS8n0",
        "outputId": "58dfe999-8472-41b7-9693-006e5ef5b2f0"
      },
      "execution_count": 48,
      "outputs": [
        {
          "output_type": "error",
          "ename": "NameError",
          "evalue": "name 'L' is not defined",
          "traceback": [
            "\u001b[0;31m---------------------------------------------------------------------------\u001b[0m",
            "\u001b[0;31mNameError\u001b[0m                                 Traceback (most recent call last)",
            "\u001b[0;32m<ipython-input-48-75aa0dd6f79f>\u001b[0m in \u001b[0;36m<cell line: 2>\u001b[0;34m()\u001b[0m\n\u001b[1;32m      1\u001b[0m \u001b[0;32mdel\u001b[0m\u001b[0;34m(\u001b[0m\u001b[0mL\u001b[0m\u001b[0;34m)\u001b[0m\u001b[0;34m\u001b[0m\u001b[0;34m\u001b[0m\u001b[0m\n\u001b[0;32m----> 2\u001b[0;31m \u001b[0mprint\u001b[0m\u001b[0;34m(\u001b[0m\u001b[0mL\u001b[0m\u001b[0;34m)\u001b[0m\u001b[0;34m\u001b[0m\u001b[0;34m\u001b[0m\u001b[0m\n\u001b[0m",
            "\u001b[0;31mNameError\u001b[0m: name 'L' is not defined"
          ]
        }
      ]
    },
    {
      "cell_type": "markdown",
      "source": [
        "** Question No : 02 **"
      ],
      "metadata": {
        "id": "I6Y4bLMUTsiy"
      }
    },
    {
      "cell_type": "code",
      "source": [
        "D={1:5.6,2:7.8,3:6.6,4:8.7,5:7.7}\n",
        "print(D)"
      ],
      "metadata": {
        "colab": {
          "base_uri": "https://localhost:8080/"
        },
        "id": "S3M35Z0cTwHN",
        "outputId": "498590f6-49cf-4c45-c6d7-6474535de3f9"
      },
      "execution_count": 53,
      "outputs": [
        {
          "output_type": "stream",
          "name": "stdout",
          "text": [
            "{1: 5.6, 2: 7.8, 3: 6.6, 4: 8.7, 5: 7.7}\n"
          ]
        }
      ]
    },
    {
      "cell_type": "code",
      "source": [
        "D[8]=8.8\n",
        "print(D)"
      ],
      "metadata": {
        "colab": {
          "base_uri": "https://localhost:8080/"
        },
        "id": "_Na8Q_UOT9i2",
        "outputId": "6df22618-d37d-4f86-fba7-430bbbbf76a7"
      },
      "execution_count": 54,
      "outputs": [
        {
          "output_type": "stream",
          "name": "stdout",
          "text": [
            "{1: 5.6, 2: 7.8, 3: 6.6, 4: 8.7, 5: 7.7, 8: 8.8}\n"
          ]
        }
      ]
    },
    {
      "cell_type": "code",
      "source": [
        "D.pop(2)\n",
        "print(D)"
      ],
      "metadata": {
        "colab": {
          "base_uri": "https://localhost:8080/"
        },
        "id": "sekFjcrvUAdR",
        "outputId": "543d5fab-945a-44fa-8aa0-997b56a0039f"
      },
      "execution_count": 55,
      "outputs": [
        {
          "output_type": "stream",
          "name": "stdout",
          "text": [
            "{1: 5.6, 3: 6.6, 4: 8.7, 5: 7.7, 8: 8.8}\n"
          ]
        }
      ]
    },
    {
      "cell_type": "code",
      "source": [
        "Key_check= 6 in D\n",
        "print(Key_check)"
      ],
      "metadata": {
        "colab": {
          "base_uri": "https://localhost:8080/"
        },
        "id": "E1meluZ9UChw",
        "outputId": "c8a1f022-a7b2-4e88-cbe2-35b9a74e55bf"
      },
      "execution_count": 56,
      "outputs": [
        {
          "output_type": "stream",
          "name": "stdout",
          "text": [
            "False\n"
          ]
        }
      ]
    },
    {
      "cell_type": "code",
      "source": [
        "print(\"The number of elements in the Dictionary\", len(D))"
      ],
      "metadata": {
        "colab": {
          "base_uri": "https://localhost:8080/"
        },
        "id": "VX3GpI6fUEuz",
        "outputId": "25111d3e-6453-4435-b195-ee238fe38184"
      },
      "execution_count": 57,
      "outputs": [
        {
          "output_type": "stream",
          "name": "stdout",
          "text": [
            "The number of elements in the Dictionary 5\n"
          ]
        }
      ]
    },
    {
      "cell_type": "code",
      "source": [
        "print(\"The sum of elements in the Dictionary\",sum(D.values()))"
      ],
      "metadata": {
        "colab": {
          "base_uri": "https://localhost:8080/"
        },
        "id": "0JJLe_KEUGch",
        "outputId": "35aab546-c59f-4ada-8408-26c558470eb3"
      },
      "execution_count": 58,
      "outputs": [
        {
          "output_type": "stream",
          "name": "stdout",
          "text": [
            "The sum of elements in the Dictionary 37.4\n"
          ]
        }
      ]
    },
    {
      "cell_type": "code",
      "source": [
        "D[3]=7.1\n",
        "print(D)"
      ],
      "metadata": {
        "colab": {
          "base_uri": "https://localhost:8080/"
        },
        "id": "RXvsGOEvUIE7",
        "outputId": "ac9bc980-78d4-44c0-f5cb-68ceefd73b45"
      },
      "execution_count": 59,
      "outputs": [
        {
          "output_type": "stream",
          "name": "stdout",
          "text": [
            "{1: 5.6, 3: 7.1, 4: 8.7, 5: 7.7, 8: 8.8}\n"
          ]
        }
      ]
    },
    {
      "cell_type": "code",
      "source": [
        "D.clear()\n",
        "print(D)"
      ],
      "metadata": {
        "colab": {
          "base_uri": "https://localhost:8080/"
        },
        "id": "teFcCUH_UJcy",
        "outputId": "822e95b5-2da2-4d0c-ee8f-b9bb9e8517e3"
      },
      "execution_count": 60,
      "outputs": [
        {
          "output_type": "stream",
          "name": "stdout",
          "text": [
            "{}\n"
          ]
        }
      ]
    },
    {
      "cell_type": "markdown",
      "source": [
        "** Question NO : 03 **"
      ],
      "metadata": {
        "id": "FNepCqg2VSmr"
      }
    },
    {
      "cell_type": "code",
      "source": [
        "S1= {10, 20, 30, 40, 50, 60}\n",
        "S2= {40, 50, 60, 70, 80, 90}\n",
        "print(S1)\n",
        "print(S2)\n"
      ],
      "metadata": {
        "colab": {
          "base_uri": "https://localhost:8080/"
        },
        "id": "y86QCAp8VVbY",
        "outputId": "5aba53e5-694a-4843-f37a-571438552d0f"
      },
      "execution_count": 61,
      "outputs": [
        {
          "output_type": "stream",
          "name": "stdout",
          "text": [
            "{50, 20, 40, 10, 60, 30}\n",
            "{80, 50, 70, 40, 90, 60}\n"
          ]
        }
      ]
    },
    {
      "cell_type": "code",
      "source": [
        "S1.update([55,66])\n",
        "print(\"Set S1 after adding 55 and 66:\",S1)"
      ],
      "metadata": {
        "colab": {
          "base_uri": "https://localhost:8080/"
        },
        "id": "akvLevyuWpON",
        "outputId": "de445378-2352-4db8-e2e2-ae5c1d2d6166"
      },
      "execution_count": 66,
      "outputs": [
        {
          "output_type": "stream",
          "name": "stdout",
          "text": [
            "Set S1 after adding 55 and 66: {50, 66, 20, 55, 40, 60}\n"
          ]
        }
      ]
    },
    {
      "cell_type": "code",
      "source": [
        "S1.difference_update([10,30])\n",
        "print(\"Set S1 after removing 10 and 30:\",S1)"
      ],
      "metadata": {
        "colab": {
          "base_uri": "https://localhost:8080/"
        },
        "id": "cK8iBcnfW4zU",
        "outputId": "d1adbe00-2517-46a2-b325-da13bc6781df"
      },
      "execution_count": 65,
      "outputs": [
        {
          "output_type": "stream",
          "name": "stdout",
          "text": [
            "Set S1 after removing 10 and 30: {50, 66, 20, 55, 40, 60}\n"
          ]
        }
      ]
    },
    {
      "cell_type": "code",
      "source": [
        "is_present = 40 in S1\n",
        "print(\"Is 40 present in Set S1?\", is_present)"
      ],
      "metadata": {
        "colab": {
          "base_uri": "https://localhost:8080/"
        },
        "id": "f6I8CF3FX677",
        "outputId": "307198e2-c7aa-47f4-a24b-4001d755fcf1"
      },
      "execution_count": 64,
      "outputs": [
        {
          "output_type": "stream",
          "name": "stdout",
          "text": [
            "Is 40 present in Set S1? True\n"
          ]
        }
      ]
    },
    {
      "cell_type": "code",
      "source": [
        "s1_union_s2= S1.union(S2)\n",
        "print(\"Union of Set S1 and S2:\",s1_union_s2)"
      ],
      "metadata": {
        "colab": {
          "base_uri": "https://localhost:8080/"
        },
        "id": "TCwnzVi9YRjq",
        "outputId": "8bb948a5-3652-4b85-c0b0-42267c8e81ae"
      },
      "execution_count": 67,
      "outputs": [
        {
          "output_type": "stream",
          "name": "stdout",
          "text": [
            "Union of Set S1 and S2: {66, 70, 40, 80, 50, 20, 55, 90, 60}\n"
          ]
        }
      ]
    },
    {
      "cell_type": "code",
      "source": [
        "s1_intersection_s2= S1.intersection(S2)\n",
        "print(\"Intersection of Set S1 and S2:\",s1_intersection_s2)"
      ],
      "metadata": {
        "colab": {
          "base_uri": "https://localhost:8080/"
        },
        "id": "f_jhVqKMYXoY",
        "outputId": "73fda923-9fd7-4cb3-9303-76b6ed054eea"
      },
      "execution_count": 68,
      "outputs": [
        {
          "output_type": "stream",
          "name": "stdout",
          "text": [
            "Intersection of Set S1 and S2: {40, 50, 60}\n"
          ]
        }
      ]
    },
    {
      "cell_type": "code",
      "source": [
        "s1_difference_s2= S1.difference(S2)\n",
        "print(\"Difference of Set S1 and S2:\",s1_difference_s2)"
      ],
      "metadata": {
        "colab": {
          "base_uri": "https://localhost:8080/"
        },
        "id": "PtVTRWM5YauS",
        "outputId": "f1abad9d-d685-4637-d667-e3786facc168"
      },
      "execution_count": 69,
      "outputs": [
        {
          "output_type": "stream",
          "name": "stdout",
          "text": [
            "Difference of Set S1 and S2: {66, 20, 55}\n"
          ]
        }
      ]
    },
    {
      "cell_type": "markdown",
      "source": [
        "** Question No: 04**"
      ],
      "metadata": {
        "id": "Ig4YFGchYkVz"
      }
    },
    {
      "cell_type": "code",
      "source": [
        "import random\n",
        "import string\n",
        "\n",
        "def generate_random_string(length):\n",
        "    return ''.join(random.choices(string.ascii_letters + string.digits, k=length))\n",
        "\n",
        "random_strings = [generate_random_string(random.randint(6, 8)) for _ in range(100)]\n",
        "print(\"100 random strings of length between 6 and 8:\")\n",
        "for s in random_strings:\n",
        "    print(s)\n"
      ],
      "metadata": {
        "colab": {
          "base_uri": "https://localhost:8080/"
        },
        "id": "vuXA33dcYm22",
        "outputId": "af0bcb7f-5d90-419f-f319-a5073d858b0a"
      },
      "execution_count": 70,
      "outputs": [
        {
          "output_type": "stream",
          "name": "stdout",
          "text": [
            "100 random strings of length between 6 and 8:\n",
            "KHRoCEy\n",
            "eGXPqBH0\n",
            "28JmaJc\n",
            "EtszfpCE\n",
            "t22ZxEq\n",
            "8DajbiQ\n",
            "z3niv3\n",
            "pENUGnY\n",
            "PkbbMh\n",
            "c4gLY3\n",
            "Ri7HGS4\n",
            "Ty0u9wF\n",
            "hsPhdUkx\n",
            "313KSVgN\n",
            "oJTLxIU\n",
            "9141uiFj\n",
            "9ikaYIJD\n",
            "XVKjpU\n",
            "VSI1L0\n",
            "y28w2Mq\n",
            "jxrqI1yt\n",
            "aHTQ7N\n",
            "R9VTsq\n",
            "Bxogj0\n",
            "0wRWDNdY\n",
            "Kfgch5G\n",
            "57zNGD\n",
            "SE5x8Hb\n",
            "G51il9\n",
            "STL7dP\n",
            "JsySQe\n",
            "XVn6cJvs\n",
            "2sGNco\n",
            "v0scSzy\n",
            "pdt34IS\n",
            "cm6CAF1Q\n",
            "KFxBFru\n",
            "2gdTNpZ\n",
            "ScY5B1\n",
            "anU7l8vm\n",
            "rUsTFlq\n",
            "dvEC3Gs\n",
            "E9SzJ5\n",
            "X1Bg5g\n",
            "qGsoHfF6\n",
            "0YDBIP\n",
            "SV6j4g\n",
            "yWRa6X5x\n",
            "3NFeC1t1\n",
            "LRJfAGdf\n",
            "pwO3hK8\n",
            "rOR4N3D\n",
            "x97Q2W\n",
            "mLSl2Z\n",
            "YKZzbohn\n",
            "SAZ3Pq\n",
            "VH8OEi\n",
            "IqbRIb\n",
            "SVo2s1o\n",
            "isaCKBL\n",
            "BpsPJpyc\n",
            "Ade1Xw\n",
            "7gCpaY3\n",
            "QUkr2z\n",
            "jirbf93H\n",
            "GHsQMnQ\n",
            "apwGNOQ\n",
            "aUbQVR\n",
            "9fEOBZ5v\n",
            "YENtlSN1\n",
            "HDZgNN\n",
            "uA1eJrnW\n",
            "ElrmRthg\n",
            "FgXUHaVf\n",
            "B8idPqQW\n",
            "eVfFue7\n",
            "8FwDaC\n",
            "pjWFvUi\n",
            "DGBTgf\n",
            "1OMpTVJ\n",
            "uuMHy86\n",
            "qNCqfDE9\n",
            "TItFPL\n",
            "rn1i5J\n",
            "3GpAobV\n",
            "MJlHRJS0\n",
            "dXKGzcN\n",
            "PrEjY3ty\n",
            "lzIbrBsm\n",
            "9G7NXVLq\n",
            "Z9aeYwQ7\n",
            "mQMyYO2\n",
            "1WDwBhjP\n",
            "CKf3rgtF\n",
            "kpCdsw\n",
            "btFW2y9\n",
            "3dLqT7\n",
            "VLQ72In\n",
            "Ac5sdIRa\n",
            "ul3CoP\n"
          ]
        }
      ]
    },
    {
      "cell_type": "code",
      "source": [
        "def is_prime(n):\n",
        "    if n <= 1:\n",
        "        return False\n",
        "    for i in range(2, int(n ** 0.5) + 1):\n",
        "        if n % i == 0:\n",
        "            return False\n",
        "    return True\n",
        "\n",
        "primes = [num for num in range(600, 801) if is_prime(num)]\n",
        "print(\"Prime numbers between 600 and 800:\")\n",
        "print(primes)\n"
      ],
      "metadata": {
        "colab": {
          "base_uri": "https://localhost:8080/"
        },
        "id": "IAKlmQtjY1-E",
        "outputId": "43b53090-0942-4c6b-dac2-67734f77a3db"
      },
      "execution_count": 71,
      "outputs": [
        {
          "output_type": "stream",
          "name": "stdout",
          "text": [
            "Prime numbers between 600 and 800:\n",
            "[601, 607, 613, 617, 619, 631, 641, 643, 647, 653, 659, 661, 673, 677, 683, 691, 701, 709, 719, 727, 733, 739, 743, 751, 757, 761, 769, 773, 787, 797]\n"
          ]
        }
      ]
    },
    {
      "cell_type": "code",
      "source": [
        "divisible_by_7_and_9 = [num for num in range(100, 1000) if num % 7 == 0 and num % 9 == 0]\n",
        "print(\"Numbers between 100 and 1000 divisible by 7 and 9:\")\n",
        "print(divisible_by_7_and_9)\n"
      ],
      "metadata": {
        "colab": {
          "base_uri": "https://localhost:8080/"
        },
        "id": "gVw7jnF_Y2_O",
        "outputId": "b67b953b-afe4-4126-c1f4-5032f9756d1b"
      },
      "execution_count": 72,
      "outputs": [
        {
          "output_type": "stream",
          "name": "stdout",
          "text": [
            "Numbers between 100 and 1000 divisible by 7 and 9:\n",
            "[126, 189, 252, 315, 378, 441, 504, 567, 630, 693, 756, 819, 882, 945]\n"
          ]
        }
      ]
    },
    {
      "cell_type": "markdown",
      "source": [
        "**Question No : 05**"
      ],
      "metadata": {
        "id": "kwbBcPmPZAcO"
      }
    },
    {
      "cell_type": "code",
      "source": [
        "import random\n",
        "\n",
        "list1 = [random.randint(10, 30) for _ in range(10)]\n",
        "list2 = [random.randint(10, 30) for _ in range(10)]\n",
        "\n",
        "print(\"List 1:\", list1)\n",
        "print(\"List 2:\", list2)"
      ],
      "metadata": {
        "colab": {
          "base_uri": "https://localhost:8080/"
        },
        "id": "SO1BsuWCZDZE",
        "outputId": "4b7885a2-6b67-489b-c8a5-7a7f6d5eddce"
      },
      "execution_count": 73,
      "outputs": [
        {
          "output_type": "stream",
          "name": "stdout",
          "text": [
            "List 1: [15, 25, 29, 27, 27, 19, 16, 16, 25, 25]\n",
            "List 2: [17, 26, 25, 28, 12, 13, 20, 21, 29, 12]\n"
          ]
        }
      ]
    },
    {
      "cell_type": "code",
      "source": [
        "common_numbers = list(set(list1) & set(list2))\n",
        "print(\"Common numbers in the two lists:\", common_numbers)"
      ],
      "metadata": {
        "colab": {
          "base_uri": "https://localhost:8080/"
        },
        "id": "3ba2egnTZTcb",
        "outputId": "6c4cb197-c870-4de5-d455-898795447e1f"
      },
      "execution_count": 75,
      "outputs": [
        {
          "output_type": "stream",
          "name": "stdout",
          "text": [
            "Common numbers in the two lists: [25, 29]\n"
          ]
        }
      ]
    },
    {
      "cell_type": "code",
      "source": [
        "unique_numbers = list(set(list1) ^ set(list2))\n",
        "print(\"Unique numbers in both the lists:\", unique_numbers)"
      ],
      "metadata": {
        "colab": {
          "base_uri": "https://localhost:8080/"
        },
        "id": "Fcub1cdgZXHX",
        "outputId": "1bb81f56-ef19-4538-8d2a-842b2eeae94c"
      },
      "execution_count": 76,
      "outputs": [
        {
          "output_type": "stream",
          "name": "stdout",
          "text": [
            "Unique numbers in both the lists: [12, 13, 15, 16, 17, 19, 20, 21, 26, 27, 28]\n"
          ]
        }
      ]
    },
    {
      "cell_type": "code",
      "source": [
        "min_list1 = min(list1)\n",
        "min_list2 = min(list2)\n",
        "print(\"Minimum in List 1:\", min_list1)\n",
        "print(\"Minimum in List 2:\", min_list2)\n",
        "overall_minimum = min(min_list1, min_list2)\n",
        "print(\"Overall minimum between both lists:\", overall_minimum)"
      ],
      "metadata": {
        "colab": {
          "base_uri": "https://localhost:8080/"
        },
        "id": "xp7bETitZZpu",
        "outputId": "f8b737cc-4e45-4616-95ca-360b3ac67697"
      },
      "execution_count": 80,
      "outputs": [
        {
          "output_type": "stream",
          "name": "stdout",
          "text": [
            "Minimum in List 1: 15\n",
            "Minimum in List 2: 12\n",
            "Overall minimum between both lists: 12\n"
          ]
        }
      ]
    },
    {
      "cell_type": "code",
      "source": [
        "max_list1 = max(list1)\n",
        "max_list2 = max(list2)\n",
        "print(\"Maximum in List 1:\", max_list1)\n",
        "print(\"Maximum in List 2:\", max_list2)\n",
        "overall_maximum = max(min_list1, min_list2)\n",
        "print(\"Overall minimum between both lists:\", overall_maximum)"
      ],
      "metadata": {
        "colab": {
          "base_uri": "https://localhost:8080/"
        },
        "id": "Sg7_hGxbZdLm",
        "outputId": "c3c7a5a1-1835-4b3b-c809-da9c6d6059a3"
      },
      "execution_count": 81,
      "outputs": [
        {
          "output_type": "stream",
          "name": "stdout",
          "text": [
            "Maximum in List 1: 29\n",
            "Maximum in List 2: 29\n",
            "Overall minimum between both lists: 15\n"
          ]
        }
      ]
    },
    {
      "cell_type": "code",
      "source": [
        "sum_list1 = sum(list1)\n",
        "sum_list2 = sum(list2)\n",
        "print(\"Sum of List 1:\", sum_list1)\n",
        "print(\"Sum of List 2:\", sum_list2)\n",
        "overall_sum = sum_list1 + sum_list2\n",
        "print(\"Overall sum between both lists:\", overall_sum)"
      ],
      "metadata": {
        "colab": {
          "base_uri": "https://localhost:8080/"
        },
        "id": "0BkfUseeZf6H",
        "outputId": "fc80b4e4-36a8-49bd-b961-aded7ba9261e"
      },
      "execution_count": 82,
      "outputs": [
        {
          "output_type": "stream",
          "name": "stdout",
          "text": [
            "Sum of List 1: 224\n",
            "Sum of List 2: 203\n",
            "Overall sum between both lists: 427\n"
          ]
        }
      ]
    },
    {
      "cell_type": "markdown",
      "source": [
        "** Question No: 06**"
      ],
      "metadata": {
        "id": "LiJwHGYDap2O"
      }
    },
    {
      "cell_type": "code",
      "source": [
        "import random\n",
        "\n",
        "random_numbers = [random.randint(100, 900) for _ in range(100)]\n",
        "print(\"List of 100 random numbers:\", random_numbers)"
      ],
      "metadata": {
        "colab": {
          "base_uri": "https://localhost:8080/"
        },
        "id": "5Xcz285IautO",
        "outputId": "bc102a15-2485-4b59-985c-604f162acdef"
      },
      "execution_count": 83,
      "outputs": [
        {
          "output_type": "stream",
          "name": "stdout",
          "text": [
            "List of 100 random numbers: [418, 873, 718, 628, 400, 146, 715, 805, 671, 833, 421, 654, 155, 367, 724, 645, 637, 643, 536, 191, 668, 434, 832, 813, 809, 281, 711, 382, 517, 232, 314, 256, 316, 563, 809, 616, 881, 400, 785, 790, 339, 284, 621, 697, 158, 121, 705, 158, 869, 627, 213, 262, 521, 110, 293, 846, 344, 814, 435, 668, 809, 235, 600, 290, 771, 628, 442, 508, 432, 117, 545, 894, 874, 453, 723, 206, 807, 120, 354, 458, 678, 190, 243, 348, 462, 448, 652, 274, 488, 209, 764, 438, 163, 207, 717, 290, 734, 822, 107, 475]\n"
          ]
        }
      ]
    },
    {
      "cell_type": "code",
      "source": [
        "odd_numbers = [num for num in random_numbers if num % 2 != 0]\n",
        "print(\"Odd numbers:\", odd_numbers)\n",
        "print(\"Count of odd numbers:\", len(odd_numbers))"
      ],
      "metadata": {
        "colab": {
          "base_uri": "https://localhost:8080/"
        },
        "id": "NNU4DAUYdvVO",
        "outputId": "1c7c53e2-9eb4-4361-cef0-cfa3b6079f65"
      },
      "execution_count": 84,
      "outputs": [
        {
          "output_type": "stream",
          "name": "stdout",
          "text": [
            "Odd numbers: [873, 715, 805, 671, 833, 421, 155, 367, 645, 637, 643, 191, 813, 809, 281, 711, 517, 563, 809, 881, 785, 339, 621, 697, 121, 705, 869, 627, 213, 521, 293, 435, 809, 235, 771, 117, 545, 453, 723, 807, 243, 209, 163, 207, 717, 107, 475]\n",
            "Count of odd numbers: 47\n"
          ]
        }
      ]
    },
    {
      "cell_type": "code",
      "source": [
        "even_numbers = [num for num in random_numbers if num % 2 == 0]\n",
        "print(\"Even numbers:\", even_numbers)\n",
        "print(\"Count of even numbers:\", len(even_numbers))"
      ],
      "metadata": {
        "colab": {
          "base_uri": "https://localhost:8080/"
        },
        "id": "mg2jdWxVeCae",
        "outputId": "24b80530-1984-4027-8670-443833e4047d"
      },
      "execution_count": 85,
      "outputs": [
        {
          "output_type": "stream",
          "name": "stdout",
          "text": [
            "Even numbers: [418, 718, 628, 400, 146, 654, 724, 536, 668, 434, 832, 382, 232, 314, 256, 316, 616, 400, 790, 284, 158, 158, 262, 110, 846, 344, 814, 668, 600, 290, 628, 442, 508, 432, 894, 874, 206, 120, 354, 458, 678, 190, 348, 462, 448, 652, 274, 488, 764, 438, 290, 734, 822]\n",
            "Count of even numbers: 53\n"
          ]
        }
      ]
    },
    {
      "cell_type": "code",
      "source": [
        "def is_prime(n):\n",
        "    if n <= 1:\n",
        "        return False\n",
        "    for i in range(2, int(n ** 0.5) + 1):\n",
        "        if n % i == 0:\n",
        "            return False\n",
        "    return True\n",
        "\n",
        "prime_numbers = [num for num in random_numbers if is_prime(num)]\n",
        "print(\"Prime numbers:\", prime_numbers)\n",
        "print(\"Count of prime numbers:\", len(prime_numbers))"
      ],
      "metadata": {
        "colab": {
          "base_uri": "https://localhost:8080/"
        },
        "id": "XQJPcjtWeHXb",
        "outputId": "681aff56-b2c2-416e-a94a-f8a67e8eb795"
      },
      "execution_count": 86,
      "outputs": [
        {
          "output_type": "stream",
          "name": "stdout",
          "text": [
            "Prime numbers: [421, 367, 643, 191, 809, 281, 563, 809, 881, 521, 293, 809, 163, 107]\n",
            "Count of prime numbers: 14\n"
          ]
        }
      ]
    },
    {
      "cell_type": "markdown",
      "source": [
        "** Question No: 07**"
      ],
      "metadata": {
        "id": "t4zzBRmreWtq"
      }
    },
    {
      "cell_type": "code",
      "source": [
        "D={1:\"One\",2:\"Two\",3:\"Three\",4:\"Four\", 5:\"Five\"}\n",
        "print(D)\n",
        "print(\"{:<10} {:<10} \".format(\"Keys\",\"Values\"))\n",
        "for key,value in D.items():\n",
        "    print(\"{:<10} {:<10} \".format(key,value))"
      ],
      "metadata": {
        "colab": {
          "base_uri": "https://localhost:8080/"
        },
        "id": "EEuL5endeZJZ",
        "outputId": "76d1185a-fc5c-41f1-827e-14ce66d18529"
      },
      "execution_count": 95,
      "outputs": [
        {
          "output_type": "stream",
          "name": "stdout",
          "text": [
            "{1: 'One', 2: 'Two', 3: 'Three', 4: 'Four', 5: 'Five'}\n",
            "Keys       Values     \n",
            "1          One        \n",
            "2          Two        \n",
            "3          Three      \n",
            "4          Four       \n",
            "5          Five       \n"
          ]
        }
      ]
    },
    {
      "cell_type": "markdown",
      "source": [
        "** Question No: 08**"
      ],
      "metadata": {
        "id": "rYwdaicRfcRL"
      }
    },
    {
      "cell_type": "code",
      "source": [
        "# Define the list\n",
        "L = [\"One\", \"Two\", \"Three\", \"Four\", \"Five\"]\n",
        "\n",
        "D = {}\n",
        "for i in L:\n",
        "    D[i] = len(i)\n",
        "print(\"{:<10} {:<10} \".format(\"Element\",\"Size\"))\n",
        "for key,value in D.items():\n",
        "    print(\"{:<10} {:<10} \".format(key,value))"
      ],
      "metadata": {
        "colab": {
          "base_uri": "https://localhost:8080/"
        },
        "id": "M-EaEXZxelAa",
        "outputId": "01a182dd-66b7-4a61-b129-157737a7010d"
      },
      "execution_count": 94,
      "outputs": [
        {
          "output_type": "stream",
          "name": "stdout",
          "text": [
            "Element    Size       \n",
            "One        3          \n",
            "Two        3          \n",
            "Three      5          \n",
            "Four       4          \n",
            "Five       4          \n"
          ]
        }
      ]
    },
    {
      "cell_type": "markdown",
      "source": [
        "** Question No: 09**"
      ],
      "metadata": {
        "id": "m9ggyeRjf5s4"
      }
    },
    {
      "cell_type": "code",
      "source": [
        "import string\n",
        "import secrets\n",
        "import random\n",
        "\n",
        "X = []\n",
        "for i in range(100):\n",
        "    N = random.randint(10,15)\n",
        "    res = \"\".join(secrets.choice(string.ascii_letters+string.digits+string.punctuation) for i in range(N))\n",
        "    X.append(res)\n",
        "print(X)"
      ],
      "metadata": {
        "colab": {
          "base_uri": "https://localhost:8080/"
        },
        "id": "IWLb36DMf7r-",
        "outputId": "f2befa7e-b4d5-41c0-c349-85000271d329"
      },
      "execution_count": 96,
      "outputs": [
        {
          "output_type": "stream",
          "name": "stdout",
          "text": [
            "['Y\"x{0w=kQRa', 'xw]8xmT(A7sxSTu', 'cMhM/xGn\"U,SG', 'vNfW-]{2|/;', 'g\\\\v)8&ONq?y', '2S/.J`vWbw', ';sQp|\\\\@+P>n', \"'e$%Y2KjHqZP|\", '1tZ1:]C7]Q', '>D,+vv;T1wnh', '[}d@kz/NPq&<Oa[', 'TdRj[K9~@$dZ&y9', \">V|u[-nO']\", 'mx<]:FN*pqEs8z', 'Trb3,t|&D?G@%', '<HgmSd8D-<l)2bJ', 'i}fcL]kmJE[', 'Yl/GxGK5D+', 'l)8T%0a|1eF5', '^hL^?_oHq{/', '}?*m//7=naR>', '66q;Ip^>!kvk2kn', '6\\\\DLERfUG~', 'I0Rv`:(%{$7', 'k&zfDtQ0Z0i5<', 'g[?`b;0g:^4DCqt', 'f8`-M&v[3bdP', '#Z;e6$1q$\\\\%', '=pa>E}(ORe&|DMI', 'x?qm(q`Or1xG', 'E2S$VKD=V\\\\7', 'fJnsg#Jeqr?Z:(', ';LFp[ol|$5bwyj', 'sA8{WAe5KV', 'Hn[<Pq]0@Be!^N', 'nW%QWRKp=WshXwJ', 'g6l-\\\\,-.\"A=', 'oDuvibk]sD,pypH', '\"Xa3_DG}IIF9', \"l!rQ{.J'B9eRV\", ';[!3LVMH&D', 'mi)z$f#9=n#@@RN', 'g5PDr**X5B', 'g,?C2q7}|t', \"^+GVbX'l?sr\", 'XHe;bA:V4I|T#l', '~4F@%gM^]FI', '!)JJiw<V`H\"?C', '6=I9()-4h11|', '2N@yOms:f8?\\\\{p', '\\\\y\"W-r\\\\b[TO', 'B\"G8\\\\{b#v1', 'NE?8Yb)`V:sN)', 'yBf=L1s$7!CtX', 'PB%`Xa=GCE(y1', 'CZ!Z1bao}IgH', '99@%@K49~&', 'J2VlkMN0bg?pYk', 'Nw{YdZS*5g6M', '6]pz?Xkt=l%', 'b/EtLB-l(N&4^', ',Ku<U-oYAs>', 'r5s8pG+l&7SyG6', '~V__uF!?AkjcKQN', '1Ci/pE*E-<Z:\\\\', 'w39iW)\"-,kWYH', \"KK9wB-B&>%oCx'[\", 'E{l@ge-#\"Dq', 'ED3?f|hhNpV0', \"*;Ttj#2@8!:7'x\", 'xw-c[iYta?i8', 'E}1RWXwUI,[h_2', 'YN87]ikE~Bz[\".i', '3D9~}Ta6\\\\qOF', \"'W{&OjxVwv,\", \"RU[}vgy$$'\", 'N#)<f1&{3<wXUy', '1Kr9%MeOUu', 'P|Q\\\\XlTP&qa~*', '#ac,j*)C%6', 'fgC4b#2^AyC', '.T6WiL\"EBLg&[{R', 'm.Hbn-K!R_', '}(I2L-fKSET[', 'WMNH%_y6rd', 'h3yb&T!CDk~=88l', '2-yLj[Ag0XK$|', 'h9.`1aSt3J', ',4{9;E[C5K&+', '~*T[Sn_:tkTpw?', '\"xk$.TmLIT', \"<[;zAmMzdZ6P:U'\", 'mG<s|\"CT(Z,|!-', 'IiYX?O34$f:', 'vlmLr2WQ`=', 'lDOI\\\\91t@0', '5qdhq]Ex\\\\Gq}.|', '1EXJ]~]TL){%+ih', 'z`vBG!lZk}', 'wn_afek>Snj/']\n"
          ]
        }
      ]
    },
    {
      "cell_type": "markdown",
      "source": [
        "** Question No: 10**"
      ],
      "metadata": {
        "id": "iQ7jLsDTgIN4"
      }
    },
    {
      "cell_type": "code",
      "source": [
        "def is_prime(n):\n",
        "    if n == 1:\n",
        "        return False\n",
        "    i = 2\n",
        "    while i*i <= n :\n",
        "        if n%i == 0:\n",
        "            return False\n",
        "        i+= 1\n",
        "    return True\n",
        "prime_list = []\n",
        "for j in range(600,801):\n",
        "    if is_prime(j):\n",
        "        prime_list.append(j)\n",
        "print(prime_list)"
      ],
      "metadata": {
        "colab": {
          "base_uri": "https://localhost:8080/"
        },
        "id": "l_7-MuvegJfO",
        "outputId": "b87def9d-d179-464c-9c7c-75f224395f18"
      },
      "execution_count": 97,
      "outputs": [
        {
          "output_type": "stream",
          "name": "stdout",
          "text": [
            "[601, 607, 613, 617, 619, 631, 641, 643, 647, 653, 659, 661, 673, 677, 683, 691, 701, 709, 719, 727, 733, 739, 743, 751, 757, 761, 769, 773, 787, 797]\n"
          ]
        }
      ]
    },
    {
      "cell_type": "markdown",
      "source": [
        "** Question No: 11**"
      ],
      "metadata": {
        "id": "I0hPBDTogWTg"
      }
    },
    {
      "cell_type": "code",
      "source": [
        "import timeit\n",
        "\n",
        "mysetup = \"from math import sqrt\"\n",
        "\n",
        "mycode = '''\n",
        "def example():\n",
        "    mylist = []\n",
        "    for x in range(100):\n",
        "        mylist.append(sqrt(x))\n",
        "'''\n",
        "print(timeit.timeit(setup = mysetup,\n",
        "                  stmt = mycode,\n",
        "                  number = 100000))"
      ],
      "metadata": {
        "colab": {
          "base_uri": "https://localhost:8080/"
        },
        "id": "MSpI9zzGgX10",
        "outputId": "e8e70429-0112-4b0f-f006-693146d8502f"
      },
      "execution_count": 98,
      "outputs": [
        {
          "output_type": "stream",
          "name": "stdout",
          "text": [
            "0.014516115999867907\n"
          ]
        }
      ]
    },
    {
      "cell_type": "markdown",
      "source": [
        "** Question No: 12**"
      ],
      "metadata": {
        "id": "OWHu8EaegjfH"
      }
    },
    {
      "cell_type": "code",
      "source": [
        "import time\n",
        "import random\n",
        "import matplotlib.pyplot as plt\n",
        "\n",
        "# Function to measure the sorting time\n",
        "def measure_sort_time(num_elements):\n",
        "    random_list = [random.randint(0, 100000) for _ in range(num_elements)]\n",
        "    start_time = time.time()\n",
        "    sorted_list = sorted(random_list)\n",
        "    end_time = time.time()\n",
        "    return end_time - start_time\n",
        "\n",
        "# List sizes\n",
        "list_sizes = [5000, 10000, 15000, 20000, 25000]\n",
        "times = []\n",
        "\n",
        "# Measure the sorting time for each list size\n",
        "for size in list_sizes:\n",
        "    sort_time = measure_sort_time(size)\n",
        "    times.append(sort_time)\n",
        "    print(f\"Time taken to sort list of size {size}: {sort_time:.4f} seconds\")\n",
        "\n",
        "# Plotting the graph\n",
        "plt.figure(figsize=(10, 5))\n",
        "plt.plot(list_sizes, times, marker='o', linestyle='-', color='b')\n",
        "plt.title('Time taken to sort lists of different sizes')\n",
        "plt.xlabel('Number of elements in list')\n",
        "plt.ylabel('Time taken (seconds)')\n",
        "plt.grid(True)\n",
        "plt.show()"
      ],
      "metadata": {
        "colab": {
          "base_uri": "https://localhost:8080/",
          "height": 578
        },
        "id": "BtlfFHyXgk5-",
        "outputId": "c5d595c2-bf51-4cb5-dd49-9e370a7ff791"
      },
      "execution_count": 101,
      "outputs": [
        {
          "output_type": "stream",
          "name": "stdout",
          "text": [
            "Time taken to sort list of size 5000: 0.0117 seconds\n",
            "Time taken to sort list of size 10000: 0.0027 seconds\n",
            "Time taken to sort list of size 15000: 0.0117 seconds\n",
            "Time taken to sort list of size 20000: 0.0061 seconds\n",
            "Time taken to sort list of size 25000: 0.0269 seconds\n"
          ]
        },
        {
          "output_type": "display_data",
          "data": {
            "text/plain": [
              "<Figure size 1000x500 with 1 Axes>"
            ],
            "image/png": "[encoded data removed]"
          },
          "metadata": {}
        }
      ]
    },
    {
      "cell_type": "markdown",
      "source": [
        "** Question No: 13**"
      ],
      "metadata": {
        "id": "6vJuuzuBiJq5"
      }
    },
    {
      "cell_type": "code",
      "source": [
        "# Define the dictionary of student marks\n",
        "student_marks = {\n",
        "    \"Arun\": [85, 92, 78, 90, 88],\n",
        "    \"Babu\": [79, 85, 80, 82, 90],\n",
        "    \"Chandru\": [91, 88, 84, 95, 89],\n",
        "    \"Douglus\": [70, 75, 80, 85, 78],\n",
        "    \"Evangeline\": [88, 82, 84, 86, 80]\n",
        "}\n",
        "\n",
        "# Calculate the average marks for each student\n",
        "average_marks = {student: sum(marks) / len(marks) for student, marks in student_marks.items()}\n",
        "\n",
        "# Find the student with maximum average marks\n",
        "max_avg_student = max(average_marks, key=average_marks.get)\n",
        "max_avg_marks = average_marks[max_avg_student]\n",
        "\n",
        "# Find the student with minimum average marks\n",
        "min_avg_student = min(average_marks, key=average_marks.get)\n",
        "min_avg_marks = average_marks[min_avg_student]\n",
        "\n",
        "print(f\"Student with maximum average marks: {max_avg_student} ({max_avg_marks:.2f})\")\n",
        "print(f\"Student with minimum average marks: {min_avg_student} ({min_avg_marks:.2f})\")\n"
      ],
      "metadata": {
        "colab": {
          "base_uri": "https://localhost:8080/"
        },
        "id": "JlXRk6uJiLLa",
        "outputId": "6da56695-51a8-4a52-b3ca-a5139ace56ad"
      },
      "execution_count": 100,
      "outputs": [
        {
          "output_type": "stream",
          "name": "stdout",
          "text": [
            "Student with maximum average marks: Chandru (89.40)\n",
            "Student with minimum average marks: Douglus (77.60)\n"
          ]
        }
      ]
    }
  ]
}